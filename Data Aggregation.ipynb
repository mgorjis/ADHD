{
 "cells": [
  {
   "cell_type": "code",
   "execution_count": 1,
   "metadata": {},
   "outputs": [
    {
     "name": "stdout",
     "output_type": "stream",
     "text": [
      "\n"
     ]
    }
   ],
   "source": [
    "format compact\n",
    "%plot inline\n",
    "\n",
    "%NotebookApp.iopub_data_rate_limit=10000000.0; %(bytes/sec)\n",
    "%NotebookApp.rate_limit_window=3.0; %(secs)\n",
    "\n",
    "% %%file multi_line_func.m "
   ]
  },
  {
   "cell_type": "code",
   "execution_count": 3,
   "metadata": {},
   "outputs": [
    {
     "name": "stdout",
     "output_type": "stream",
     "text": [
      "Data_directory = \n",
      "    \"C:\\Gorji\\Dropbox\\Old\\ADHD\\Data\"\n",
      "ans =\n",
      "    73\n",
      "\n"
     ]
    }
   ],
   "source": [
    "Data_directory = fullfile(fileparts(fileparts(cd)),\"Data\")\n",
    "\n",
    "Files=dir(Data_directory);\n",
    "\n",
    "length(Files)"
   ]
  },
  {
   "cell_type": "code",
   "execution_count": 7,
   "metadata": {},
   "outputs": [
    {
     "name": "stdout",
     "output_type": "stream",
     "text": [
      "1-AMIRMAHDI SAFARI-9- TASK.TXT\n",
      "1-ATAEE ASHKAN-R-7- TASK.TXT\n",
      "1-Aboofazeli Ali-12-R-EC.TXT\n",
      "1-Aghababaii ali-7-ec.TXT\n",
      "1-Alijani Pooria-R-6-Task.TXT\n",
      "1-Arab M-12-L-EC.TXT\n",
      "1-Asgari H-5-L-EC.TXT\n",
      "1-Azimi MR-10-R-EC.TXT\n",
      "1-ELIYAERFAN-EC-14.TXT\n",
      "1-FAZEL ARYAN -TASK.TXT\n",
      "1-FakhrZare-8-R-EC.TXT\n",
      "1-Ghaderi Ali Akbar-R-11-Task.TXT\n",
      "1-HAJAGHABABAEEROMINAEC.TXT\n",
      "1-HASANPOORRADMANEC.TXT\n",
      "1-HafezForghan-R-10-EO.TXT\n",
      "1-Heidarpour Ali-R-EC-10.TXT\n",
      "1-Hosseinpoor A-10-R-EC.TXT\n",
      "1-Jalali MR-9-R-EC.TXT\n",
      "1-Jamalpoor A-15-R-EC.TXT\n",
      "1-KHafaee Bagher-R-EC-14.TXT\n",
      "1-Khojandi-13-L-EC.TXT\n",
      "1-Lajevardi fatemeh-6-EC-F-R.TXT\n",
      "1-MATIN REZAYI-EC-9.TXT\n",
      "1-MOOSAVIAN - HANIEH - EC.TXT\n",
      "1-Mazaheri Nazanin-ec-R-9.TXT\n",
      "1-Mehvari A-10-R-EC.TXT\n",
      "1-Memar MA-15-R-EC.TXT\n",
      "1-Mirbagheri-10-R-EC.TXT\n",
      "1-MoeeniMohammadHassan-EC-R-9.TXT\n",
      "1-Moeni AR -R-12-EC.TXT\n",
      "1-Mohammadi HO-10-R-EC.TXT\n",
      "1-Momeni mehdi-12-R-EC.TXT\n",
      "1-Moosavi A-5-R-EC.TXT\n",
      "1-Noori S-6-R-EC.TXT\n",
      "1-Noroozi Saman-13-R-EC.TXT\n",
      "1-Panahandeh A-9-R-EC.TXT\n",
      "1-Panahzadeh T-10-R-EC.TXT\n",
      "1-Rahmani Melina-R-6-EC.TXT\n",
      "1-Rezaee Ashkan-9-R-EC.TXT\n",
      "1-SHafiee ghzaleh-R-ec-11.TXT\n",
      "1-SOLEIMANI-EC-11.TXT\n",
      "1-Sadeghi Soha-13-L-EC.TXT\n",
      "1-Sepehrjoo Rad-9-R-EC.TXT\n",
      "1-Shahzeidi A-7-L-EC.TXT\n",
      "1-Sogol Mojerloo_14_R_EC.TXT\n",
      "1-Torki Asal-7-R-EC.TXT\n",
      "1-Yoosefi B-14-R-EC.TXT\n",
      "1-Zamani Kimia-R-EC-6.TXT\n",
      "1-choopani mohammad-EC-R.TXT\n",
      "1-erfan-sharifian-r-EC.TXT\n",
      "2-Akbari M-11-R-EC.TXT\n",
      "2-Amir-panahi-R-EC-9.TXT\n",
      "2-Daliri S-11-R-EC.TXT\n",
      "2-Elnaz-Madadi-4-R-EC.TXT\n",
      "2-Fatemeh-Madadi-10-EC-R.TXT\n",
      "2-Fattahi SH-13-R-EC.TXT\n",
      "2-Hosseinpoor N-8-R-EC-Normal.TXT\n",
      "2-Hosseinpoor Y-4-R-EC-Normal.TXT\n",
      "2-Kadkhodaee A-5-R-EC-Normal.TXT\n",
      "2-Khayyer AN-12-L-EC.TXT\n",
      "2-Khayyer AZ-12-R-EC.TXT\n",
      "2-Khojasteh A-8-R-EC.TXT\n",
      "2-Maryam-Madadi-13-EC.TXT\n",
      "2-Marzie-Steki-12-R-EC.TXT\n",
      "2-Mohammadi AB-9-R-EC.TXT\n",
      "2-Mohammadi DCH-13-R-EC.TXT\n",
      "2-Mohammadi R-6-R-EC.TXT\n",
      "2-Parvaresh P-7-R-EC.TXT\n",
      "2-Pirayesh sh-11-R-EC.TXT\n",
      "2-Poor Golafshan M-10-R-EC.TXT\n",
      "2-Saadat A-12-R-EC.TXT\n",
      "\n"
     ]
    }
   ],
   "source": [
    "All_Table = table();\n",
    "Channels = arrayfun(@(z) join([\"Channel\",z],\"_\") , 1:19); %size(x,2)\n",
    "Patients={};\n",
    "\n",
    "for i=1:length(Files)\n",
    "    if startsWith(Files(i,1).name,'.') ~= 1\n",
    "        \n",
    "        disp(Files(i,1).name)\n",
    "        patient_id = i-2; %join([\"Patient\",i-2],\"_\")\n",
    "        \n",
    "        file = append(Data_directory,\"\\\",Files(i,1).name);\n",
    "        x=load(file);\n",
    "        \n",
    "        x(:,end+1)=patient_id;\n",
    "        x(:,end+1)=1:size(x,1);   \n",
    "                \n",
    "        X = array2table(x);\n",
    "        X.Properties.VariableNames = [Channels, \"patient_id\",\"Sample\"];\n",
    "        \n",
    "\n",
    "        \n",
    "        %X{:,\"patient_id\"} = patient_id\n",
    "        %X{:,\"Sample\"} = 1:size(X,1)\n",
    "        \n",
    "        if Files(i,1).name(1)==\"1\"\n",
    "            target = \"ADHD\";\n",
    "        else\n",
    "            target = \"Non-ADHD\";\n",
    "        end\n",
    "        \n",
    "        \n",
    "        All_Table = vertcat(All_Table,X);\n",
    "        Patients = [Patients; patient_id,Files(i,1).name(3:end-4),target];\n",
    "        \n",
    "    end\n",
    "    \n",
    "end    \n",
    "\n",
    "Patients = array2table(Patients);\n",
    "Patients.Properties.VariableNames = [\"Patient_id\",\"Patient_Name\",\"Target\"];"
   ]
  },
  {
   "cell_type": "code",
   "execution_count": 8,
   "metadata": {},
   "outputs": [
    {
     "name": "stdout",
     "output_type": "stream",
     "text": [
      "ans =\n",
      "     3453468          21\n",
      "\n"
     ]
    }
   ],
   "source": [
    "size(All_Table)"
   ]
  },
  {
   "cell_type": "code",
   "execution_count": 12,
   "metadata": {},
   "outputs": [
    {
     "name": "stdout",
     "output_type": "stream",
     "text": [
      "\n"
     ]
    }
   ],
   "source": [
    "writetable(Patients,append(Data_directory,\"\\\",\"aggregated\\Patients.csv\")  );"
   ]
  },
  {
   "cell_type": "code",
   "execution_count": 13,
   "metadata": {},
   "outputs": [
    {
     "name": "stdout",
     "output_type": "stream",
     "text": [
      "\n"
     ]
    }
   ],
   "source": [
    "writetable(All_Table,append(Data_directory,\"\\\",\"aggregated\\EEG.csv\")  );"
   ]
  },
  {
   "cell_type": "code",
   "execution_count": 11,
   "metadata": {},
   "outputs": [
    {
     "name": "stdout",
     "output_type": "stream",
     "text": [
      "ans =\n",
      "  4x21 table\n",
      "    Channel_1    Channel_2    Channel_3    Channel_4    Channel_5    Channel_6    Channel_7    Channel_8    Channel_9    Channel_10    Channel_11    Channel_12    Channel_13    Channel_14    Channel_15    Channel_16    Channel_17    Channel_18    Channel_19    patient_id    Sample\n",
      "    _________    _________    _________    _________    _________    _________    _________    _________    _________    __________    __________    __________    __________    __________    __________    __________    __________    __________    __________    __________    ______\n",
      "      -0.71        -1.22       -10.77        -5.91        -8.91        -4.24        -3.18          2.4         -1.9         -3.12         -4.89         -6.54         -6.67          -4.2         -3.14         -3.83         -3.76         -3.26        -0.18           1           1   \n",
      "      -1.71        -3.18       -35.16       -18.67       -29.42       -13.76       -10.17         8.69        -5.03           -10         -15.7        -21.12         -21.8        -13.81         -9.47        -12.08        -12.88        -10.71        -0.24           1           2   \n",
      "      -0.26        -2.04       -52.76        -26.2       -45.11       -20.06       -14.69        15.56        -4.89        -14.13        -23.04        -30.44        -32.99        -20.72        -12.27        -16.57        -19.57        -15.55          0.9           1           3   \n",
      "        3.8         2.45       -61.42       -27.99       -54.05        -21.7       -16.08        22.38        -3.07        -13.76        -26.47        -32.92        -39.44        -23.27        -12.21        -16.08         -20.3        -15.83         3.63           1           4   \n",
      "\n"
     ]
    }
   ],
   "source": [
    "%T(T.Height==71',:)\n",
    "\n",
    "All_Table(1:4,:)"
   ]
  },
  {
   "cell_type": "code",
   "execution_count": null,
   "metadata": {},
   "outputs": [],
   "source": []
  }
 ],
 "metadata": {
  "kernelspec": {
   "display_name": "Matlab",
   "language": "matlab",
   "name": "matlab"
  },
  "language_info": {
   "codemirror_mode": "octave",
   "file_extension": ".m",
   "help_links": [
    {
     "text": "MetaKernel Magics",
     "url": "https://metakernel.readthedocs.io/en/latest/source/README.html"
    }
   ],
   "mimetype": "text/x-octave",
   "name": "matlab",
   "version": "0.16.9"
  }
 },
 "nbformat": 4,
 "nbformat_minor": 4
}
