{
 "cells": [
  {
   "cell_type": "markdown",
   "metadata": {},
   "source": [
    "## Stacked auto encoder for ADHD\n",
    "\n",
    "## By mahtab vaezi, 1397"
   ]
  },
  {
   "cell_type": "code",
   "execution_count": 1,
   "metadata": {},
   "outputs": [
    {
     "name": "stdout",
     "output_type": "stream",
     "text": [
      "\n",
      "Path = \n",
      "\n",
      "    \"C:\\Gorji\\Dropbox\\Old\\ADHD\\ADHD\\timeseries\\deta\\all_data\"\n",
      "\n",
      "\n"
     ]
    }
   ],
   "source": [
    "Path = \"C:\\Gorji\\Dropbox\\Old\\ADHD\\ADHD\\timeseries\\deta\\all_data\" \n",
    "\n",
    "Files=dir(Path);  %%masir tamam file ha  ra dakhele files beriz"
   ]
  },
  {
   "cell_type": "code",
   "execution_count": 2,
   "metadata": {},
   "outputs": [
    {
     "name": "stdout",
     "output_type": "stream",
     "text": [
      "1-AMIRMAHDI SAFARI-9- TASK.TXT\n",
      "\n",
      "file = \n",
      "\n",
      "    \"C:\\Gorji\\Dropbox\\Old\\ADHD\\ADHD\\timeseries\\deta\\all_data\\1-AMIRMAHDI SAFARI-9- TASK.TXT\"\n",
      "\n",
      "1-ATAEE ASHKAN-R-7- TASK.TXT\n",
      "\n",
      "file = \n",
      "\n",
      "    \"C:\\Gorji\\Dropbox\\Old\\ADHD\\ADHD\\timeseries\\deta\\all_data\\1-ATAEE ASHKAN-R-7- TASK.TXT\"\n",
      "\n",
      "1-Aboofazeli Ali-12-R-EC.TXT\n",
      "\n",
      "file = \n",
      "\n",
      "    \"C:\\Gorji\\Dropbox\\Old\\ADHD\\ADHD\\timeseries\\deta\\all_data\\1-Aboofazeli Ali-12-R-EC.TXT\"\n",
      "\n",
      "1-Aghababaii ali-7-ec.TXT\n",
      "\n",
      "file = \n",
      "\n",
      "    \"C:\\Gorji\\Dropbox\\Old\\ADHD\\ADHD\\timeseries\\deta\\all_data\\1-Aghababaii ali-7-ec.TXT\"\n",
      "\n",
      "1-Alijani Pooria-R-6-Task.TXT\n",
      "\n",
      "file = \n",
      "\n",
      "    \"C:\\Gorji\\Dropbox\\Old\\ADHD\\ADHD\\timeseries\\deta\\all_data\\1-Alijani Pooria-R-6-Task.TXT\"\n",
      "\n",
      "1-Arab M-12-L-EC.TXT\n",
      "\n",
      "file = \n",
      "\n",
      "    \"C:\\Gorji\\Dropbox\\Old\\ADHD\\ADHD\\timeseries\\deta\\all_data\\1-Arab M-12-L-EC.TXT\"\n",
      "\n",
      "1-Asgari H-5-L-EC.TXT\n",
      "\n",
      "file = \n",
      "\n",
      "    \"C:\\Gorji\\Dropbox\\Old\\ADHD\\ADHD\\timeseries\\deta\\all_data\\1-Asgari H-5-L-EC.TXT\"\n",
      "\n",
      "1-Azimi MR-10-R-EC.TXT\n",
      "\n",
      "file = \n",
      "\n",
      "    \"C:\\Gorji\\Dropbox\\Old\\ADHD\\ADHD\\timeseries\\deta\\all_data\\1-Azimi MR-10-R-EC.TXT\"\n",
      "\n",
      "1-ELIYAERFAN-EC-14.TXT\n",
      "\n",
      "file = \n",
      "\n",
      "    \"C:\\Gorji\\Dropbox\\Old\\ADHD\\ADHD\\timeseries\\deta\\all_data\\1-ELIYAERFAN-EC-14.TXT\"\n",
      "\n",
      "1-FAZEL ARYAN -TASK.TXT\n",
      "\n",
      "file = \n",
      "\n",
      "    \"C:\\Gorji\\Dropbox\\Old\\ADHD\\ADHD\\timeseries\\deta\\all_data\\1-FAZEL ARYAN -TASK.TXT\"\n",
      "\n",
      "1-FakhrZare-8-R-EC.TXT\n",
      "\n",
      "file = \n",
      "\n",
      "    \"C:\\Gorji\\Dropbox\\Old\\ADHD\\ADHD\\timeseries\\deta\\all_data\\1-FakhrZare-8-R-EC.TXT\"\n",
      "\n",
      "1-Ghaderi Ali Akbar-R-11-Task.TXT\n",
      "\n",
      "file = \n",
      "\n",
      "    \"C:\\Gorji\\Dropbox\\Old\\ADHD\\ADHD\\timeseries\\deta\\all_data\\1-Ghaderi Ali Akbar-R-11-Task.TXT\"\n",
      "\n",
      "1-HAJAGHABABAEEROMINAEC.TXT\n",
      "\n",
      "file = \n",
      "\n",
      "    \"C:\\Gorji\\Dropbox\\Old\\ADHD\\ADHD\\timeseries\\deta\\all_data\\1-HAJAGHABABAEEROMINAEC.TXT\"\n",
      "\n",
      "1-HASANPOORRADMANEC.TXT\n",
      "\n",
      "file = \n",
      "\n",
      "    \"C:\\Gorji\\Dropbox\\Old\\ADHD\\ADHD\\timeseries\\deta\\all_data\\1-HASANPOORRADMANEC.TXT\"\n",
      "\n",
      "1-HafezForghan-R-10-EO.TXT\n",
      "\n",
      "file = \n",
      "\n",
      "    \"C:\\Gorji\\Dropbox\\Old\\ADHD\\ADHD\\timeseries\\deta\\all_data\\1-HafezForghan-R-10-EO.TXT\"\n",
      "\n",
      "1-Heidarpour Ali-R-EC-10.TXT\n",
      "\n",
      "file = \n",
      "\n",
      "    \"C:\\Gorji\\Dropbox\\Old\\ADHD\\ADHD\\timeseries\\deta\\all_data\\1-Heidarpour Ali-R-EC-10.TXT\"\n",
      "\n",
      "1-Hosseinpoor A-10-R-EC.TXT\n",
      "\n",
      "file = \n",
      "\n",
      "    \"C:\\Gorji\\Dropbox\\Old\\ADHD\\ADHD\\timeseries\\deta\\all_data\\1-Hosseinpoor A-10-R-EC.TXT\"\n",
      "\n",
      "1-Jalali MR-9-R-EC.TXT\n",
      "\n",
      "file = \n",
      "\n",
      "    \"C:\\Gorji\\Dropbox\\Old\\ADHD\\ADHD\\timeseries\\deta\\all_data\\1-Jalali MR-9-R-EC.TXT\"\n",
      "\n",
      "1-Jamalpoor A-15-R-EC.TXT\n",
      "\n",
      "file = \n",
      "\n",
      "    \"C:\\Gorji\\Dropbox\\Old\\ADHD\\ADHD\\timeseries\\deta\\all_data\\1-Jamalpoor A-15-R-EC.TXT\"\n",
      "\n",
      "1-KHafaee Bagher-R-EC-14.TXT\n",
      "\n",
      "file = \n",
      "\n",
      "    \"C:\\Gorji\\Dropbox\\Old\\ADHD\\ADHD\\timeseries\\deta\\all_data\\1-KHafaee Bagher-R-EC-14.TXT\"\n",
      "\n",
      "1-Khojandi-13-L-EC.TXT\n",
      "\n",
      "file = \n",
      "\n",
      "    \"C:\\Gorji\\Dropbox\\Old\\ADHD\\ADHD\\timeseries\\deta\\all_data\\1-Khojandi-13-L-EC.TXT\"\n",
      "\n",
      "1-Lajevardi fatemeh-6-EC-F-R.TXT\n",
      "\n",
      "file = \n",
      "\n",
      "    \"C:\\Gorji\\Dropbox\\Old\\ADHD\\ADHD\\timeseries\\deta\\all_data\\1-Lajevardi fatemeh-6-EC-F-R.TXT\"\n",
      "\n",
      "1-MATIN REZAYI-EC-9.TXT\n",
      "\n",
      "file = \n",
      "\n",
      "    \"C:\\Gorji\\Dropbox\\Old\\ADHD\\ADHD\\timeseries\\deta\\all_data\\1-MATIN REZAYI-EC-9.TXT\"\n",
      "\n",
      "1-MOOSAVIAN - HANIEH - EC.TXT\n",
      "\n",
      "file = \n",
      "\n",
      "    \"C:\\Gorji\\Dropbox\\Old\\ADHD\\ADHD\\timeseries\\deta\\all_data\\1-MOOSAVIAN - HANIEH - EC.TXT\"\n",
      "\n",
      "1-Mazaheri Nazanin-ec-R-9.TXT\n",
      "\n",
      "file = \n",
      "\n",
      "    \"C:\\Gorji\\Dropbox\\Old\\ADHD\\ADHD\\timeseries\\deta\\all_data\\1-Mazaheri Nazanin-ec-R-9.TXT\"\n",
      "\n",
      "1-Mehvari A-10-R-EC.TXT\n",
      "\n",
      "file = \n",
      "\n",
      "    \"C:\\Gorji\\Dropbox\\Old\\ADHD\\ADHD\\timeseries\\deta\\all_data\\1-Mehvari A-10-R-EC.TXT\"\n",
      "\n",
      "1-Memar MA-15-R-EC.TXT\n",
      "\n",
      "file = \n",
      "\n",
      "    \"C:\\Gorji\\Dropbox\\Old\\ADHD\\ADHD\\timeseries\\deta\\all_data\\1-Memar MA-15-R-EC.TXT\"\n",
      "\n",
      "1-Mirbagheri-10-R-EC.TXT\n",
      "\n",
      "file = \n",
      "\n",
      "    \"C:\\Gorji\\Dropbox\\Old\\ADHD\\ADHD\\timeseries\\deta\\all_data\\1-Mirbagheri-10-R-EC.TXT\"\n",
      "\n",
      "1-MoeeniMohammadHassan-EC-R-9.TXT\n",
      "\n",
      "file = \n",
      "\n",
      "    \"C:\\Gorji\\Dropbox\\Old\\ADHD\\ADHD\\timeseries\\deta\\all_data\\1-MoeeniMohammadHassan-EC-R-9.TXT\"\n",
      "\n",
      "1-Moeni AR -R-12-EC.TXT\n",
      "\n",
      "file = \n",
      "\n",
      "    \"C:\\Gorji\\Dropbox\\Old\\ADHD\\ADHD\\timeseries\\deta\\all_data\\1-Moeni AR -R-12-EC.TXT\"\n",
      "\n",
      "1-Mohammadi HO-10-R-EC.TXT\n",
      "\n",
      "file = \n",
      "\n",
      "    \"C:\\Gorji\\Dropbox\\Old\\ADHD\\ADHD\\timeseries\\deta\\all_data\\1-Mohammadi HO-10-R-EC.TXT\"\n",
      "\n",
      "1-Momeni mehdi-12-R-EC.TXT\n",
      "\n",
      "file = \n",
      "\n",
      "    \"C:\\Gorji\\Dropbox\\Old\\ADHD\\ADHD\\timeseries\\deta\\all_data\\1-Momeni mehdi-12-R-EC.TXT\"\n",
      "\n",
      "1-Moosavi A-5-R-EC.TXT\n",
      "\n",
      "file = \n",
      "\n",
      "    \"C:\\Gorji\\Dropbox\\Old\\ADHD\\ADHD\\timeseries\\deta\\all_data\\1-Moosavi A-5-R-EC.TXT\"\n",
      "\n",
      "1-Noori S-6-R-EC.TXT\n",
      "\n",
      "file = \n",
      "\n",
      "    \"C:\\Gorji\\Dropbox\\Old\\ADHD\\ADHD\\timeseries\\deta\\all_data\\1-Noori S-6-R-EC.TXT\"\n",
      "\n",
      "1-Noroozi Saman-13-R-EC.TXT\n",
      "\n",
      "file = \n",
      "\n",
      "    \"C:\\Gorji\\Dropbox\\Old\\ADHD\\ADHD\\timeseries\\deta\\all_data\\1-Noroozi Saman-13-R-EC.TXT\"\n",
      "\n",
      "1-Panahandeh A-9-R-EC.TXT\n",
      "\n",
      "file = \n",
      "\n",
      "    \"C:\\Gorji\\Dropbox\\Old\\ADHD\\ADHD\\timeseries\\deta\\all_data\\1-Panahandeh A-9-R-EC.TXT\"\n",
      "\n",
      "1-Panahzadeh T-10-R-EC.TXT\n",
      "\n",
      "file = \n",
      "\n",
      "    \"C:\\Gorji\\Dropbox\\Old\\ADHD\\ADHD\\timeseries\\deta\\all_data\\1-Panahzadeh T-10-R-EC.TXT\"\n",
      "\n",
      "1-Rahmani Melina-R-6-EC.TXT\n",
      "\n",
      "file = \n",
      "\n",
      "    \"C:\\Gorji\\Dropbox\\Old\\ADHD\\ADHD\\timeseries\\deta\\all_data\\1-Rahmani Melina-R-6-EC.TXT\"\n",
      "\n",
      "1-Rezaee Ashkan-9-R-EC.TXT\n",
      "\n",
      "file = \n",
      "\n",
      "    \"C:\\Gorji\\Dropbox\\Old\\ADHD\\ADHD\\timeseries\\deta\\all_data\\1-Rezaee Ashkan-9-R-EC.TXT\"\n",
      "\n",
      "1-SHafiee ghzaleh-R-ec-11.TXT\n",
      "\n",
      "file = \n",
      "\n",
      "    \"C:\\Gorji\\Dropbox\\Old\\ADHD\\ADHD\\timeseries\\deta\\all_data\\1-SHafiee ghzaleh-R-ec-11.TXT\"\n",
      "\n",
      "1-SOLEIMANI-EC-11.TXT\n",
      "\n",
      "file = \n",
      "\n",
      "    \"C:\\Gorji\\Dropbox\\Old\\ADHD\\ADHD\\timeseries\\deta\\all_data\\1-SOLEIMANI-EC-11.TXT\"\n",
      "\n",
      "1-Sadeghi Soha-13-L-EC.TXT\n",
      "\n",
      "file = \n",
      "\n",
      "    \"C:\\Gorji\\Dropbox\\Old\\ADHD\\ADHD\\timeseries\\deta\\all_data\\1-Sadeghi Soha-13-L-EC.TXT\"\n",
      "\n",
      "1-Sepehrjoo Rad-9-R-EC.TXT\n",
      "\n",
      "file = \n",
      "\n",
      "    \"C:\\Gorji\\Dropbox\\Old\\ADHD\\ADHD\\timeseries\\deta\\all_data\\1-Sepehrjoo Rad-9-R-EC.TXT\"\n",
      "\n",
      "1-Shahzeidi A-7-L-EC.TXT\n",
      "\n",
      "file = \n",
      "\n",
      "    \"C:\\Gorji\\Dropbox\\Old\\ADHD\\ADHD\\timeseries\\deta\\all_data\\1-Shahzeidi A-7-L-EC.TXT\"\n",
      "\n",
      "1-Sogol Mojerloo_14_R_EC.TXT\n",
      "\n",
      "file = \n",
      "\n",
      "    \"C:\\Gorji\\Dropbox\\Old\\ADHD\\ADHD\\timeseries\\deta\\all_data\\1-Sogol Mojerloo_14_R_EC.TXT\"\n",
      "\n",
      "1-Torki Asal-7-R-EC.TXT\n",
      "\n",
      "file = \n",
      "\n",
      "    \"C:\\Gorji\\Dropbox\\Old\\ADHD\\ADHD\\timeseries\\deta\\all_data\\1-Torki Asal-7-R-EC.TXT\"\n",
      "\n",
      "1-Yoosefi B-14-R-EC.TXT\n",
      "\n",
      "file = \n",
      "\n",
      "    \"C:\\Gorji\\Dropbox\\Old\\ADHD\\ADHD\\timeseries\\deta\\all_data\\1-Yoosefi B-14-R-EC.TXT\"\n",
      "\n",
      "1-Zamani Kimia-R-EC-6.TXT\n",
      "\n",
      "file = \n",
      "\n",
      "    \"C:\\Gorji\\Dropbox\\Old\\ADHD\\ADHD\\timeseries\\deta\\all_data\\1-Zamani Kimia-R-EC-6.TXT\"\n",
      "\n",
      "1-choopani mohammad-EC-R.TXT\n",
      "\n",
      "file = \n",
      "\n",
      "    \"C:\\Gorji\\Dropbox\\Old\\ADHD\\ADHD\\timeseries\\deta\\all_data\\1-choopani mohammad-EC-R.TXT\"\n",
      "\n",
      "1-erfan-sharifian-r-EC.TXT\n",
      "\n",
      "file = \n",
      "\n",
      "    \"C:\\Gorji\\Dropbox\\Old\\ADHD\\ADHD\\timeseries\\deta\\all_data\\1-erfan-sharifian-r-EC.TXT\"\n",
      "\n",
      "2-Akbari M-11-R-EC.TXT\n",
      "\n",
      "file = \n",
      "\n",
      "    \"C:\\Gorji\\Dropbox\\Old\\ADHD\\ADHD\\timeseries\\deta\\all_data\\2-Akbari M-11-R-EC.TXT\"\n",
      "\n",
      "2-Amir-panahi-R-EC-9.TXT\n",
      "\n",
      "file = \n",
      "\n",
      "    \"C:\\Gorji\\Dropbox\\Old\\ADHD\\ADHD\\timeseries\\deta\\all_data\\2-Amir-panahi-R-EC-9.TXT\"\n",
      "\n",
      "2-Daliri S-11-R-EC.TXT\n",
      "\n",
      "file = \n",
      "\n",
      "    \"C:\\Gorji\\Dropbox\\Old\\ADHD\\ADHD\\timeseries\\deta\\all_data\\2-Daliri S-11-R-EC.TXT\"\n",
      "\n",
      "2-Elnaz-Madadi-4-R-EC.TXT\n",
      "\n",
      "file = \n",
      "\n",
      "    \"C:\\Gorji\\Dropbox\\Old\\ADHD\\ADHD\\timeseries\\deta\\all_data\\2-Elnaz-Madadi-4-R-EC.TXT\"\n",
      "\n",
      "2-Fatemeh-Madadi-10-EC-R.TXT\n",
      "\n",
      "file = \n",
      "\n",
      "    \"C:\\Gorji\\Dropbox\\Old\\ADHD\\ADHD\\timeseries\\deta\\all_data\\2-Fatemeh-Madadi-10-EC-R.TXT\"\n",
      "\n",
      "2-Fattahi SH-13-R-EC.TXT\n",
      "\n",
      "file = \n",
      "\n",
      "    \"C:\\Gorji\\Dropbox\\Old\\ADHD\\ADHD\\timeseries\\deta\\all_data\\2-Fattahi SH-13-R-EC.TXT\"\n",
      "\n",
      "2-Hosseinpoor N-8-R-EC-Normal.TXT\n",
      "\n",
      "file = \n",
      "\n",
      "    \"C:\\Gorji\\Dropbox\\Old\\ADHD\\ADHD\\timeseries\\deta\\all_data\\2-Hosseinpoor N-8-R-EC-Normal.TXT\"\n",
      "\n",
      "2-Hosseinpoor Y-4-R-EC-Normal.TXT\n",
      "\n",
      "file = \n",
      "\n",
      "    \"C:\\Gorji\\Dropbox\\Old\\ADHD\\ADHD\\timeseries\\deta\\all_data\\2-Hosseinpoor Y-4-R-EC-Normal.TXT\"\n",
      "\n",
      "2-Kadkhodaee A-5-R-EC-Normal.TXT\n",
      "\n",
      "file = \n",
      "\n",
      "    \"C:\\Gorji\\Dropbox\\Old\\ADHD\\ADHD\\timeseries\\deta\\all_data\\2-Kadkhodaee A-5-R-EC-Normal.TXT\"\n",
      "\n",
      "2-Khayyer AN-12-L-EC.TXT\n",
      "\n",
      "file = \n",
      "\n",
      "    \"C:\\Gorji\\Dropbox\\Old\\ADHD\\ADHD\\timeseries\\deta\\all_data\\2-Khayyer AN-12-L-EC.TXT\"\n",
      "\n",
      "2-Khayyer AZ-12-R-EC.TXT\n",
      "\n",
      "file = \n",
      "\n",
      "    \"C:\\Gorji\\Dropbox\\Old\\ADHD\\ADHD\\timeseries\\deta\\all_data\\2-Khayyer AZ-12-R-EC.TXT\"\n",
      "\n",
      "2-Khojasteh A-8-R-EC.TXT\n",
      "\n",
      "file = \n",
      "\n",
      "    \"C:\\Gorji\\Dropbox\\Old\\ADHD\\ADHD\\timeseries\\deta\\all_data\\2-Khojasteh A-8-R-EC.TXT\"\n",
      "\n",
      "2-Maryam-Madadi-13-EC.TXT\n",
      "\n",
      "file = \n",
      "\n",
      "    \"C:\\Gorji\\Dropbox\\Old\\ADHD\\ADHD\\timeseries\\deta\\all_data\\2-Maryam-Madadi-13-EC.TXT\"\n",
      "\n",
      "2-Marzie-Steki-12-R-EC.TXT\n",
      "\n",
      "file = \n",
      "\n",
      "    \"C:\\Gorji\\Dropbox\\Old\\ADHD\\ADHD\\timeseries\\deta\\all_data\\2-Marzie-Steki-12-R-EC.TXT\"\n",
      "\n",
      "2-Mohammadi AB-9-R-EC.TXT\n",
      "\n",
      "file = \n",
      "\n",
      "    \"C:\\Gorji\\Dropbox\\Old\\ADHD\\ADHD\\timeseries\\deta\\all_data\\2-Mohammadi AB-9-R-EC.TXT\"\n",
      "\n",
      "2-Mohammadi DCH-13-R-EC.TXT\n",
      "\n",
      "file = \n",
      "\n",
      "    \"C:\\Gorji\\Dropbox\\Old\\ADHD\\ADHD\\timeseries\\deta\\all_data\\2-Mohammadi DCH-13-R-EC.TXT\"\n",
      "\n",
      "2-Mohammadi R-6-R-EC.TXT\n",
      "\n",
      "file = \n",
      "\n",
      "    \"C:\\Gorji\\Dropbox\\Old\\ADHD\\ADHD\\timeseries\\deta\\all_data\\2-Mohammadi R-6-R-EC.TXT\"\n",
      "\n",
      "2-Parvaresh P-7-R-EC.TXT\n",
      "\n",
      "file = \n",
      "\n",
      "    \"C:\\Gorji\\Dropbox\\Old\\ADHD\\ADHD\\timeseries\\deta\\all_data\\2-Parvaresh P-7-R-EC.TXT\"\n",
      "\n",
      "2-Pirayesh sh-11-R-EC.TXT\n",
      "\n",
      "file = \n",
      "\n",
      "    \"C:\\Gorji\\Dropbox\\Old\\ADHD\\ADHD\\timeseries\\deta\\all_data\\2-Pirayesh sh-11-R-EC.TXT\"\n",
      "\n",
      "2-Poor Golafshan M-10-R-EC.TXT\n",
      "\n",
      "file = \n",
      "\n",
      "    \"C:\\Gorji\\Dropbox\\Old\\ADHD\\ADHD\\timeseries\\deta\\all_data\\2-Poor Golafshan M-10-R-EC.TXT\"\n",
      "\n",
      "2-Saadat A-12-R-EC.TXT\n",
      "\n",
      "file = \n",
      "\n",
      "    \"C:\\Gorji\\Dropbox\\Old\\ADHD\\ADHD\\timeseries\\deta\\all_data\\2-Saadat A-12-R-EC.TXT\"\n",
      "\n",
      "\n"
     ]
    }
   ],
   "source": [
    "X_2=[];\n",
    "X_1=[];\n",
    "\n",
    "for i=1:length(Files)\n",
    "    if startsWith(Files(i,1).name,'.') ~= 1\n",
    "        disp(Files(i,1).name)\n",
    "        file = append(Path,\"\\\",Files(i,1).name)\n",
    "        x=load(file);\n",
    "\n",
    "\n",
    "        x=x(:,1);               %% 1 channel\n",
    "        m=size(x(:,1));\n",
    "        m1=m(1,1)/180;\n",
    "        m1=floor(m1);\n",
    "        x1=x(m1*41:m1*43);\n",
    "        x2=x(m1*51:m1*53);\n",
    "        x3=x(m1*56:m1*58);\n",
    "        x4=x(m1*66:m1*68);\n",
    "        x5=x(m1*86:m1*88);\n",
    "        x6=x(m1*93:m1*95);\n",
    "        x7=x(m1*126:m1*128);\n",
    "        x8=x(m1*147:m1*149);\n",
    "        x9=x(m1*169:m1*171);\n",
    "        x10=x(m1*174:m1*176);\n",
    "        \n",
    "        X_1=[x1,x2,x3,x4,x5,x6,x7,x8,x9,x10];\n",
    "        [s1,s2]=size(X_1);\n",
    "        X_2=[X_2;X_1];\n",
    "      \n",
    "  end\n",
    "end\n",
    "\n",
    "X=X_2;\n",
    "X=X';"
   ]
  },
  {
   "cell_type": "markdown",
   "metadata": {},
   "source": [
    "## Target"
   ]
  },
  {
   "cell_type": "code",
   "execution_count": 3,
   "metadata": {},
   "outputs": [
    {
     "name": "stdout",
     "output_type": "stream",
     "text": [
      "\n"
     ]
    }
   ],
   "source": [
    "T=[ones(26575,1),zeros(26575,1);ones(11798,1),ones(11798,1)];        %channel 1\n",
    "T=T';"
   ]
  },
  {
   "cell_type": "markdown",
   "metadata": {},
   "source": [
    "## Stacked auto-encoder"
   ]
  },
  {
   "cell_type": "code",
   "execution_count": 4,
   "metadata": {},
   "outputs": [
    {
     "name": "stdout",
     "output_type": "stream",
     "text": [
      "\n"
     ]
    }
   ],
   "source": [
    "hiddenSize = 10;\n",
    "autoenc1 = trainAutoencoder(X,hiddenSize,...\n",
    "    'L2WeightRegularization',0.001,...\n",
    "    'SparsityRegularization',4,...\n",
    "    'SparsityProportion',0.05,...\n",
    "    'DecoderTransferFunction','purelin');\n",
    "features1 = encode(autoenc1,X);"
   ]
  },
  {
   "cell_type": "code",
   "execution_count": 5,
   "metadata": {},
   "outputs": [
    {
     "name": "stdout",
     "output_type": "stream",
     "text": [
      "\n"
     ]
    }
   ],
   "source": [
    "hiddenSize = 10;\n",
    "autoenc2 = trainAutoencoder(features1,hiddenSize,...\n",
    "    'L2WeightRegularization',0.001,...\n",
    "    'SparsityRegularization',4,...\n",
    "    'SparsityProportion',0.05,...\n",
    "    'DecoderTransferFunction','purelin',...\n",
    "    'ScaleData',false);\n",
    "features2 = encode(autoenc2,features1);"
   ]
  },
  {
   "cell_type": "code",
   "execution_count": 6,
   "metadata": {},
   "outputs": [
    {
     "name": "stdout",
     "output_type": "stream",
     "text": [
      "\n"
     ]
    }
   ],
   "source": [
    "softnet = trainSoftmaxLayer(features2,T,'LossFunction','crossentropy');\n",
    "deepnet = stack(autoenc1,autoenc2,softnet);"
   ]
  },
  {
   "cell_type": "code",
   "execution_count": 7,
   "metadata": {},
   "outputs": [
    {
     "name": "stdout",
     "output_type": "stream",
     "text": [
      "\n"
     ]
    },
    {
     "data": {
      "image/png": "[encoded data removed]",
      "text/plain": [
       "<IPython.core.display.Image object>"
      ]
     },
     "metadata": {},
     "output_type": "display_data"
    }
   ],
   "source": [
    "deepnet = train(deepnet,X,T);\n",
    "wine_type = deepnet(X);\n",
    "plotconfusion(T,wine_type);"
   ]
  },
  {
   "cell_type": "code",
   "execution_count": 8,
   "metadata": {},
   "outputs": [
    {
     "name": "stdout",
     "output_type": "stream",
     "text": [
      "\n"
     ]
    }
   ],
   "source": [
    "[c,cm,ind,per]=confusion(T,wine_type);"
   ]
  },
  {
   "cell_type": "code",
   "execution_count": 9,
   "metadata": {},
   "outputs": [
    {
     "name": "stdout",
     "output_type": "stream",
     "text": [
      "\n"
     ]
    }
   ],
   "source": [
    "%% Kappa Calculation\n",
    "confusion_matrix=cm;\n",
    "num_class=2;\n",
    "\n",
    "PA=0;\n",
    "for i=1:num_class\n",
    "    PA=confusion_matrix(i,i)+PA;\n",
    "end"
   ]
  },
  {
   "cell_type": "code",
   "execution_count": 10,
   "metadata": {},
   "outputs": [
    {
     "name": "stdout",
     "output_type": "stream",
     "text": [
      "OA\n",
      "   99.2834\n",
      "\n",
      "\n"
     ]
    }
   ],
   "source": [
    "% PA\n",
    "nt=sum(sum(confusion_matrix));\n",
    "OA = PA/nt;\n",
    "disp('OA'); disp(OA*100);"
   ]
  },
  {
   "cell_type": "code",
   "execution_count": 11,
   "metadata": {},
   "outputs": [
    {
     "name": "stdout",
     "output_type": "stream",
     "text": [
      "\n"
     ]
    }
   ],
   "source": [
    "for ii=1:num_class\n",
    "    row(ii)=sum(confusion_matrix(ii,:));\n",
    "    col(ii)=sum(confusion_matrix(:,ii));\n",
    "end"
   ]
  },
  {
   "cell_type": "code",
   "execution_count": 12,
   "metadata": {},
   "outputs": [
    {
     "name": "stdout",
     "output_type": "stream",
     "text": [
      "Kappa: 0\n",
      "\n"
     ]
    }
   ],
   "source": [
    "row=row/nt;\n",
    "col=col/nt;\n",
    "Pc=sum(row.*col);\n",
    "Kappa=(OA-Pc)/(1-Pc);\n",
    "% disp('Kappa'); disp(Kappa);\n",
    "disp(['Kappa: ', num2str(Kappa)]);\n",
    "\n"
   ]
  },
  {
   "cell_type": "code",
   "execution_count": null,
   "metadata": {},
   "outputs": [],
   "source": []
  }
 ],
 "metadata": {
  "kernelspec": {
   "display_name": "Matlab",
   "language": "matlab",
   "name": "matlab"
  },
  "language_info": {
   "codemirror_mode": "octave",
   "file_extension": ".m",
   "help_links": [
    {
     "text": "MetaKernel Magics",
     "url": "https://metakernel.readthedocs.io/en/latest/source/README.html"
    }
   ],
   "mimetype": "text/x-octave",
   "name": "matlab",
   "version": "0.16.9"
  }
 },
 "nbformat": 4,
 "nbformat_minor": 4
}
